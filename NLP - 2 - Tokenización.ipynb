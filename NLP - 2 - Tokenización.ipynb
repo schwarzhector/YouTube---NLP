{
 "cells": [
  {
   "cell_type": "markdown",
   "id": "cce6dc09",
   "metadata": {},
   "source": [
    "Código utilizado en el video:<br>\n",
    "https://youtu.be/T55fynBJpas"
   ]
  },
  {
   "cell_type": "markdown",
   "id": "0ecba342",
   "metadata": {},
   "source": [
    "# <center>Tokenización</center>"
   ]
  },
  {
   "cell_type": "code",
   "execution_count": 1,
   "id": "2e0d2993",
   "metadata": {},
   "outputs": [],
   "source": [
    "import spacy"
   ]
  },
  {
   "cell_type": "code",
   "execution_count": 2,
   "id": "baec60d6",
   "metadata": {},
   "outputs": [],
   "source": [
    "nlp = spacy.load('es_core_news_sm')"
   ]
  },
  {
   "cell_type": "code",
   "execution_count": 3,
   "id": "dee0668a",
   "metadata": {},
   "outputs": [
    {
     "name": "stdout",
     "output_type": "stream",
     "text": [
      "Un pasaje de avión, sin escalas, desde Uruguay hacia EE.UU. cuesta $471,88.\n"
     ]
    }
   ],
   "source": [
    "texto = \"Un pasaje de avión, sin escalas, desde Uruguay hacia EE.UU. cuesta $471,88.\"\n",
    "documento = nlp(texto)\n",
    "print(documento)"
   ]
  },
  {
   "cell_type": "code",
   "execution_count": 6,
   "id": "f2424483",
   "metadata": {},
   "outputs": [
    {
     "name": "stdout",
     "output_type": "stream",
     "text": [
      "Un\n",
      "pasaje\n",
      "de\n",
      "avión\n",
      ",\n",
      "sin\n",
      "escalas\n",
      ",\n",
      "desde\n",
      "Uruguay\n",
      "hacia\n",
      "EE.UU.\n",
      "cuesta\n",
      "$\n",
      "471,88\n",
      ".\n"
     ]
    }
   ],
   "source": [
    "for elemento in documento:\n",
    "    print(elemento)\n",
    "    #print(type(elemento))"
   ]
  },
  {
   "cell_type": "code",
   "execution_count": 11,
   "id": "f858ffd9",
   "metadata": {},
   "outputs": [
    {
     "name": "stdout",
     "output_type": "stream",
     "text": [
      "pasaje\n",
      "avión\n",
      ",\n",
      "escalas\n",
      ",\n",
      "Uruguay\n",
      "EE.UU.\n",
      "cuesta\n",
      "$\n",
      "471,88\n",
      ".\n"
     ]
    }
   ],
   "source": [
    "for elemento in documento:\n",
    "    #print(elemento.is_currency)\n",
    "    #print(elemento.lower_)\n",
    "    #print(elemento.is_punct)\n",
    "    if elemento.is_stop == False:\n",
    "        print(elemento)"
   ]
  },
  {
   "cell_type": "code",
   "execution_count": 12,
   "id": "2e710d82",
   "metadata": {},
   "outputs": [
    {
     "data": {
      "text/plain": [
       "16"
      ]
     },
     "execution_count": 12,
     "metadata": {},
     "output_type": "execute_result"
    }
   ],
   "source": [
    "len(documento)"
   ]
  },
  {
   "cell_type": "code",
   "execution_count": 13,
   "id": "1ee61700",
   "metadata": {},
   "outputs": [
    {
     "data": {
      "text/plain": [
       "Un pasaje de avión, sin escalas"
      ]
     },
     "execution_count": 13,
     "metadata": {},
     "output_type": "execute_result"
    }
   ],
   "source": [
    "documento[0:7]"
   ]
  },
  {
   "cell_type": "code",
   "execution_count": 14,
   "id": "28ff302f",
   "metadata": {},
   "outputs": [
    {
     "data": {
      "text/plain": [
       "Uruguay"
      ]
     },
     "execution_count": 14,
     "metadata": {},
     "output_type": "execute_result"
    }
   ],
   "source": [
    "documento[9]"
   ]
  },
  {
   "cell_type": "code",
   "execution_count": 15,
   "id": "ec4c0b0f",
   "metadata": {},
   "outputs": [
    {
     "ename": "TypeError",
     "evalue": "'spacy.tokens.doc.Doc' object does not support item assignment",
     "output_type": "error",
     "traceback": [
      "\u001b[1;31m---------------------------------------------------------------------------\u001b[0m",
      "\u001b[1;31mTypeError\u001b[0m                                 Traceback (most recent call last)",
      "\u001b[1;32m~\\AppData\\Local\\Temp/ipykernel_7936/2859738590.py\u001b[0m in \u001b[0;36m<module>\u001b[1;34m\u001b[0m\n\u001b[1;32m----> 1\u001b[1;33m \u001b[0mdocumento\u001b[0m\u001b[1;33m[\u001b[0m\u001b[1;36m9\u001b[0m\u001b[1;33m]\u001b[0m \u001b[1;33m=\u001b[0m \u001b[1;34m'URUGUAY'\u001b[0m\u001b[1;33m\u001b[0m\u001b[1;33m\u001b[0m\u001b[0m\n\u001b[0m",
      "\u001b[1;31mTypeError\u001b[0m: 'spacy.tokens.doc.Doc' object does not support item assignment"
     ]
    }
   ],
   "source": [
    "documento[9] = 'URUGUAY'"
   ]
  },
  {
   "cell_type": "code",
   "execution_count": null,
   "id": "94db28de",
   "metadata": {},
   "outputs": [],
   "source": []
  }
 ],
 "metadata": {
  "kernelspec": {
   "display_name": "Python 3 (ipykernel)",
   "language": "python",
   "name": "python3"
  },
  "language_info": {
   "codemirror_mode": {
    "name": "ipython",
    "version": 3
   },
   "file_extension": ".py",
   "mimetype": "text/x-python",
   "name": "python",
   "nbconvert_exporter": "python",
   "pygments_lexer": "ipython3",
   "version": "3.9.7"
  }
 },
 "nbformat": 4,
 "nbformat_minor": 5
}
