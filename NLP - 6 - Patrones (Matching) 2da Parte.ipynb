{
 "cells": [
  {
   "cell_type": "markdown",
   "id": "6b690841",
   "metadata": {},
   "source": [
    "Código utilizado en el video:<br>\n",
    "https://youtu.be/PlJT0bauBTU"
   ]
  },
  {
   "cell_type": "markdown",
   "id": "afa6e79a",
   "metadata": {},
   "source": [
    "# <center>Patrones (Matching) 2da Parte</center>"
   ]
  },
  {
   "cell_type": "code",
   "execution_count": 1,
   "id": "da45abb9",
   "metadata": {},
   "outputs": [],
   "source": [
    "import spacy\n",
    "from spacy.matcher import Matcher"
   ]
  },
  {
   "cell_type": "code",
   "execution_count": 2,
   "id": "c2cbae1c",
   "metadata": {},
   "outputs": [],
   "source": [
    "nlp = spacy.load('es_core_news_lg')"
   ]
  },
  {
   "cell_type": "code",
   "execution_count": 3,
   "id": "6df27650",
   "metadata": {},
   "outputs": [],
   "source": [
    "# link https://es.wikipedia.org/wiki/S%26P_500\n",
    "texto = \"\"\" El índice Standard & Poor's 500 (Standard & Poor's 500 Index), también conocido como S&P 500, es uno de los índices bursátiles más importantes de Estados Unidos. Al S&P 500 se lo considera el índice más representativo de la situación real del mercado. El índice se basa en la capitalización bursátil de 500 grandes empresas que poseen acciones que cotizan en las bolsas NYSE o NASDAQ, y captura aproximadamente el 80% de toda la capitalización de mercado en Estados Unidos. Los componentes del índice S&P 500 y su ponderación son determinados por S&P Dow Jones Indices. Se diferencia de otros índices de mercados financieros de Estados Unidos, tales como el Dow Jones Industrial Average o el índice Nasdaq Composite, en la diversidad de los rubros que lo conforman y en su metodología de ponderación. Es uno de los índices de valores más seguidos, y muchas personas lo consideran el más representativo del mercado de acciones de Estados Unidos, y el marcador de tendencias de la economía norteamericana. El National Bureau of Economic Research ha clasificado a las acciones comunes como un indicador relevante de los ciclos de negocios. \"\"\""
   ]
  },
  {
   "cell_type": "code",
   "execution_count": 4,
   "id": "2d853a48",
   "metadata": {},
   "outputs": [],
   "source": [
    "documento = nlp(texto)"
   ]
  },
  {
   "cell_type": "code",
   "execution_count": 5,
   "id": "0c7f015f",
   "metadata": {},
   "outputs": [
    {
     "name": "stdout",
     "output_type": "stream",
     "text": [
      " \n",
      "El índice Standard & Poor's 500 (Standard & Poor's 500 Index), también conocido como S&P 500, es uno de los índices bursátiles más importantes de Estados Unidos.\n",
      "Al S&P 500 se lo considera el índice más representativo de la situación real del mercado.\n",
      "El índice se basa en la capitalización bursátil de 500 grandes empresas que poseen acciones que cotizan en las bolsas NYSE o NASDAQ, y captura aproximadamente el 80% de toda la capitalización de mercado en Estados Unidos.\n",
      "Los componentes del índice S&P 500 y su ponderación son determinados por S&P Dow Jones Indices.\n",
      "Se diferencia de otros índices de mercados financieros de Estados Unidos, tales como el Dow Jones Industrial Average o el índice Nasdaq Composite, en la diversidad de los rubros que lo conforman y en su metodología de ponderación.\n",
      "Es uno de los índices de valores más seguidos, y muchas personas lo consideran el más representativo del mercado de acciones de Estados Unidos, y el marcador de tendencias de la economía norteamericana.\n",
      "El National Bureau of Economic Research ha clasificado a las acciones comunes como un indicador relevante de los ciclos de negocios.\n"
     ]
    }
   ],
   "source": [
    "for sent in documento.sents:\n",
    "    print(sent)"
   ]
  },
  {
   "cell_type": "code",
   "execution_count": 6,
   "id": "0c487f39",
   "metadata": {},
   "outputs": [
    {
     "name": "stdout",
     "output_type": "stream",
     "text": [
      "índice\n",
      "índices\n",
      "índice\n",
      "índice\n",
      "índice\n",
      "índices\n",
      "índice\n",
      "índices\n"
     ]
    }
   ],
   "source": [
    "patron_0 =  [{'LEMMA':'índice'}]\n",
    "matcher_0 = Matcher(nlp.vocab)\n",
    "matcher_0.add('índice',[patron_0])\n",
    "resultados = matcher_0(documento, as_spans=True)\n",
    "\n",
    "for resultado in resultados:\n",
    "    print(resultado)"
   ]
  },
  {
   "cell_type": "code",
   "execution_count": 7,
   "id": "11bbf0a7",
   "metadata": {},
   "outputs": [],
   "source": [
    "# https://spacy.io/api/matcher#patterns\n",
    "patron_1 =  [{'LEMMA':'índice'}, {'LENGTH': 6}]"
   ]
  },
  {
   "cell_type": "code",
   "execution_count": 8,
   "id": "03fe1064",
   "metadata": {},
   "outputs": [
    {
     "name": "stdout",
     "output_type": "stream",
     "text": [
      "índice Nasdaq\n"
     ]
    }
   ],
   "source": [
    "matcher_1 = Matcher(nlp.vocab)\n",
    "matcher_1.add('índices',[patron_1])\n",
    "resultados = matcher_1(documento, as_spans=True)\n",
    "\n",
    "for resultado in resultados:\n",
    "    print(resultado)"
   ]
  },
  {
   "cell_type": "code",
   "execution_count": 9,
   "id": "36d285e1",
   "metadata": {},
   "outputs": [],
   "source": [
    "patron_2 =  [{'LEMMA':'índice'},{'LENGTH': {\">=\": 5}}]"
   ]
  },
  {
   "cell_type": "code",
   "execution_count": 10,
   "id": "84bdf06b",
   "metadata": {},
   "outputs": [
    {
     "name": "stdout",
     "output_type": "stream",
     "text": [
      "índice Standard\n",
      "índices bursátiles\n",
      "índice Nasdaq\n"
     ]
    }
   ],
   "source": [
    "matcher_2 = Matcher(nlp.vocab)\n",
    "matcher_2.add('índices',[patron_2])\n",
    "resultados = matcher_2(documento, as_spans=True)\n",
    "\n",
    "for resultado in resultados:\n",
    "    print(resultado)"
   ]
  },
  {
   "cell_type": "code",
   "execution_count": 11,
   "id": "183a217a",
   "metadata": {},
   "outputs": [],
   "source": [
    "patron_3 =  [{'LEMMA':'índice'},{'POS':'ADJ'}]"
   ]
  },
  {
   "cell_type": "code",
   "execution_count": 12,
   "id": "5dbf21c1",
   "metadata": {},
   "outputs": [
    {
     "name": "stdout",
     "output_type": "stream",
     "text": [
      "índices bursátiles\n"
     ]
    }
   ],
   "source": [
    "matcher_3 = Matcher(nlp.vocab)\n",
    "matcher_3.add('índices',[patron_3])\n",
    "resultados = matcher_3(documento, as_spans=True)\n",
    "\n",
    "for resultado in resultados:\n",
    "    print(resultado)"
   ]
  },
  {
   "cell_type": "code",
   "execution_count": 13,
   "id": "872382af",
   "metadata": {},
   "outputs": [],
   "source": [
    "patron_4 = [{\"TEXT\": {\"REGEX\": \"[Nn][Aa][Ss][Dd][Aa][Qq]\"}}]"
   ]
  },
  {
   "cell_type": "code",
   "execution_count": 14,
   "id": "6dc810a8",
   "metadata": {},
   "outputs": [
    {
     "name": "stdout",
     "output_type": "stream",
     "text": [
      "NASDAQ\n",
      "Nasdaq\n"
     ]
    }
   ],
   "source": [
    "matcher_4 = Matcher(nlp.vocab)\n",
    "matcher_4.add('índices',[patron_4])\n",
    "resultados = matcher_4(documento, as_spans=True)\n",
    "\n",
    "for resultado in resultados:\n",
    "    print(resultado)"
   ]
  },
  {
   "cell_type": "code",
   "execution_count": 15,
   "id": "cb66e564",
   "metadata": {},
   "outputs": [
    {
     "name": "stdout",
     "output_type": "stream",
     "text": [
      "Standard & Poor's 500\n",
      "Standard & Poor's 500\n",
      "conocido como S&P 500\n",
      "capitalización bursátil de 500\n",
      "del índice S&P 500\n"
     ]
    }
   ],
   "source": [
    "patron_5 = [{'IS_PUNCT': False},\n",
    "            {'IS_DIGIT': False},\n",
    "            {'IS_DIGIT': False},\n",
    "            {'IS_DIGIT': True}\n",
    "           ]\n",
    "matcher_5 = Matcher(nlp.vocab)\n",
    "matcher_5.add('índices',[patron_5])\n",
    "resultados = matcher_5(documento, as_spans=True)\n",
    "\n",
    "for resultado in resultados:\n",
    "    print(resultado)"
   ]
  },
  {
   "cell_type": "code",
   "execution_count": null,
   "id": "23f26003",
   "metadata": {},
   "outputs": [],
   "source": []
  },
  {
   "cell_type": "code",
   "execution_count": null,
   "id": "a6057cbd",
   "metadata": {},
   "outputs": [],
   "source": []
  }
 ],
 "metadata": {
  "kernelspec": {
   "display_name": "Python 3 (ipykernel)",
   "language": "python",
   "name": "python3"
  },
  "language_info": {
   "codemirror_mode": {
    "name": "ipython",
    "version": 3
   },
   "file_extension": ".py",
   "mimetype": "text/x-python",
   "name": "python",
   "nbconvert_exporter": "python",
   "pygments_lexer": "ipython3",
   "version": "3.9.7"
  }
 },
 "nbformat": 4,
 "nbformat_minor": 5
}
