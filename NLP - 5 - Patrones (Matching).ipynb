{
 "cells": [
  {
   "cell_type": "markdown",
   "id": "579b842b",
   "metadata": {},
   "source": [
    "Código utilizado en el video:<br>\n",
    "https://youtu.be/YhmNsgbRYZQ"
   ]
  },
  {
   "cell_type": "markdown",
   "id": "9d013e42",
   "metadata": {},
   "source": [
    "# <center>Patrones (Matching)</center>"
   ]
  },
  {
   "cell_type": "code",
   "execution_count": 1,
   "id": "538aef90",
   "metadata": {},
   "outputs": [],
   "source": [
    "import spacy\n",
    "from spacy.matcher import Matcher"
   ]
  },
  {
   "cell_type": "code",
   "execution_count": 2,
   "id": "db84e450",
   "metadata": {},
   "outputs": [],
   "source": [
    "nlp = spacy.load('es_core_news_lg')"
   ]
  },
  {
   "cell_type": "code",
   "execution_count": 3,
   "id": "3570980e",
   "metadata": {},
   "outputs": [],
   "source": [
    "texto = \"\"\"La Copa Mundial de Fútbol es un evento deportivo que se celebra cada 4 años.\n",
    "           Se celebró por primera vez en Uruguay en el año 1930.\n",
    "           En la última edición participaron 32 equipos.\n",
    "        \"\"\""
   ]
  },
  {
   "cell_type": "code",
   "execution_count": 4,
   "id": "7f4d393e",
   "metadata": {},
   "outputs": [],
   "source": [
    "documento = nlp(texto)"
   ]
  },
  {
   "cell_type": "code",
   "execution_count": 5,
   "id": "021208f3",
   "metadata": {},
   "outputs": [],
   "source": [
    "matcher = Matcher(nlp.vocab)"
   ]
  },
  {
   "cell_type": "code",
   "execution_count": 6,
   "id": "6b6d1902",
   "metadata": {},
   "outputs": [],
   "source": [
    "patron_1 =  [{\"LEMMA\":'celebrar'}]"
   ]
  },
  {
   "cell_type": "code",
   "execution_count": 7,
   "id": "3f000cc7",
   "metadata": {},
   "outputs": [],
   "source": [
    "matcher.add('celebrar',[patron_1])"
   ]
  },
  {
   "cell_type": "code",
   "execution_count": 8,
   "id": "ebfd05f1",
   "metadata": {},
   "outputs": [],
   "source": [
    "resultados = matcher(documento)"
   ]
  },
  {
   "cell_type": "code",
   "execution_count": 9,
   "id": "9d204d6b",
   "metadata": {},
   "outputs": [
    {
     "name": "stdout",
     "output_type": "stream",
     "text": [
      "<class 'list'>\n"
     ]
    }
   ],
   "source": [
    "print(type(resultados))"
   ]
  },
  {
   "cell_type": "code",
   "execution_count": 10,
   "id": "5bc7b8a0",
   "metadata": {},
   "outputs": [
    {
     "name": "stdout",
     "output_type": "stream",
     "text": [
      "(4170701316898965175, 11, 12)\n",
      "(4170701316898965175, 18, 19)\n"
     ]
    }
   ],
   "source": [
    "for resultado in resultados:\n",
    "    print(resultado)"
   ]
  },
  {
   "cell_type": "code",
   "execution_count": 11,
   "id": "cb21d4b6",
   "metadata": {},
   "outputs": [
    {
     "name": "stdout",
     "output_type": "stream",
     "text": [
      "<<< Nuevo match >>>\n",
      "--- Lemma\n",
      "celebrar\n",
      "--- Palabra encontrada\n",
      "celebra\n",
      "<<< Nuevo match >>>\n",
      "--- Lemma\n",
      "celebrar\n",
      "--- Palabra encontrada\n",
      "celebró\n"
     ]
    }
   ],
   "source": [
    "for codigo_hash, comienzo, fin in resultados:\n",
    "    print(\"<<< Nuevo match >>>\")    \n",
    "    print(\"--- Lemma\")\n",
    "    print(nlp.vocab.strings[codigo_hash])    \n",
    "    print(\"--- Palabra encontrada\")\n",
    "    print(documento[comienzo:fin])"
   ]
  },
  {
   "cell_type": "code",
   "execution_count": 12,
   "id": "3b054ccd",
   "metadata": {},
   "outputs": [
    {
     "name": "stdout",
     "output_type": "stream",
     "text": [
      "<class 'spacy.tokens.span.Span'>\n",
      "celebra\n",
      "<class 'spacy.tokens.span.Span'>\n",
      "celebró\n"
     ]
    }
   ],
   "source": [
    "matcher = Matcher(nlp.vocab)\n",
    "matcher.add('celebrar',[patron_1])\n",
    "resultados = matcher(documento, as_spans=True)\n",
    "\n",
    "for resultado in resultados:\n",
    "    print(type(resultado))\n",
    "    print(resultado)"
   ]
  },
  {
   "cell_type": "code",
   "execution_count": 13,
   "id": "a353ceed",
   "metadata": {},
   "outputs": [
    {
     "name": "stdout",
     "output_type": "stream",
     "text": [
      "celebra\n",
      "4\n",
      "celebró\n",
      "1930\n",
      "32\n"
     ]
    }
   ],
   "source": [
    "patron_2 =  [{\"IS_DIGIT\":True}]\n",
    "matcher.add('num', [patron_2])\n",
    "resultados = matcher(documento, as_spans=True)\n",
    "for resultado in resultados:\n",
    "    print(resultado)"
   ]
  },
  {
   "cell_type": "code",
   "execution_count": 14,
   "id": "bd83ad09",
   "metadata": {},
   "outputs": [
    {
     "name": "stdout",
     "output_type": "stream",
     "text": [
      "4\n",
      "1930\n",
      "32\n"
     ]
    }
   ],
   "source": [
    "matcher.remove('celebrar')\n",
    "resultados = matcher(documento, as_spans=True)\n",
    "for resultado in resultados:\n",
    "    print(resultado)"
   ]
  },
  {
   "cell_type": "code",
   "execution_count": null,
   "id": "7605d14a",
   "metadata": {},
   "outputs": [],
   "source": []
  }
 ],
 "metadata": {
  "kernelspec": {
   "display_name": "Python 3 (ipykernel)",
   "language": "python",
   "name": "python3"
  },
  "language_info": {
   "codemirror_mode": {
    "name": "ipython",
    "version": 3
   },
   "file_extension": ".py",
   "mimetype": "text/x-python",
   "name": "python",
   "nbconvert_exporter": "python",
   "pygments_lexer": "ipython3",
   "version": "3.9.7"
  }
 },
 "nbformat": 4,
 "nbformat_minor": 5
}
